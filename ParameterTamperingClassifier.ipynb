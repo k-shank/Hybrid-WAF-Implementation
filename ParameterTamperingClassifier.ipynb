{
 "cells": [
  {
   "cell_type": "markdown",
   "metadata": {},
   "source": [
    "# Parameter tampering classifier notebook\n",
    "\n",
    "This placeholder notebook describes how to train the decision tree used in the new parameter tampering classifier.\n",
    "\n",
    "You can recreate the model by sampling a range of parameter lengths, labelling shorter values as `valid` and longer values as `parameter‑tampering`,\n",
    "and fitting a simple classifier from scikit‑learn, e.g.:\n",
    "```python\n",
    "from sklearn.tree import DecisionTreeClassifier\n",
    "import numpy as np\n",
    "lengths = np.arange(1, 300)[:, None]\n",
    "labels = ['valid' if l <= 100 else 'parameter‑tampering' for l in lengths.ravel()]\n",
    "clf = DecisionTreeClassifier().fit(lengths, labels)\n",
    "```\n"
   ]
  }
 ],
 "metadata": {
  "kernelspec": {
   "display_name": "Python 3",
   "language": "python",
   "name": "python3"
  },
  "language_info": {
   "name": "python",
   "version": "3.8"
  }
 },
 "nbformat": 4,
 "nbformat_minor": 4
}