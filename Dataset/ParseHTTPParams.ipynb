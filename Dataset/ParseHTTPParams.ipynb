{
 "cells": [
  {
   "cell_type": "markdown",
   "metadata": {},
   "source": [
    "# ParseHTTPParams (placeholder)\n",
    "\n",
    "Placeholder for parsing the HTTP parameters dataset.  The original\n",
    "resource is omitted."
   ]
  }
 ],
 "metadata": {
  "kernelspec": {
   "display_name": "Python 3",
   "language": "python",
   "name": "python3"
  },
  "language_info": {
   "name": "python",
   "version": "3.8"
  }
 },
 "nbformat": 4,
 "nbformat_minor": 4
}