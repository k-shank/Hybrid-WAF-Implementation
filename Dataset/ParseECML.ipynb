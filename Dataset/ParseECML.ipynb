{
 "cells": [
  {
   "cell_type": "markdown",
   "metadata": {},
   "source": [
    "# ParseECML (placeholder)\n",
    "\n",
    "Placeholder notebook for parsing the ECML/PKDD 2007 dataset.  The actual\n",
    "dataset is not included in this simplified repository."
   ]
  }
 ],
 "metadata": {
  "kernelspec": {
   "display_name": "Python 3",
   "language": "python",
   "name": "python3"
  },
  "language_info": {
   "name": "python",
   "version": "3.8"
  }
 },
 "nbformat": 4,
 "nbformat_minor": 4
}