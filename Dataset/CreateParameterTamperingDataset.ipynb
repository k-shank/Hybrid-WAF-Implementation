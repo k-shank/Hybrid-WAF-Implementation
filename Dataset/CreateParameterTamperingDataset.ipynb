{
 "cells": [
  {
   "cell_type": "markdown",
   "metadata": {},
   "source": [
    "# CreateParameterTamperingDataset (placeholder)\n",
    "\n",
    "The large dataset used in the original project is not included here.  This\n",
    "notebook is provided as a placeholder to document the procedure for\n",
    "constructing and cleaning the parameter tampering dataset.  Refer to the\n",
    "original project for full data processing scripts."
   ]
  }
 ],
 "metadata": {
  "kernelspec": {
   "display_name": "Python 3",
   "language": "python",
   "name": "python3"
  },
  "language_info": {
   "name": "python",
   "version": "3.8"
  }
 },
 "nbformat": 4,
 "nbformat_minor": 4
}